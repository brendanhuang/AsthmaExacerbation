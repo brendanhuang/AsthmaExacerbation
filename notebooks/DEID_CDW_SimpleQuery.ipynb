{
 "cells": [
  {
   "cell_type": "markdown",
   "id": "9c26371c-bb5c-4242-aa78-929503bb82ff",
   "metadata": {},
   "source": [
    "# Simple Script to Query DEID CDW"
   ]
  },
  {
   "cell_type": "code",
   "execution_count": 6,
   "id": "21f893c6-c5fd-47d4-814e-c58af93d235e",
   "metadata": {},
   "outputs": [],
   "source": [
    "# import necessary packages\n",
    "import numpy as np # numerical compute package\n",
    "import pandas as pd # Data management package used for data cleaning\n",
    "import pyodbc # odbc for SQL queries\n",
    "import keyring\n",
    "import datetime # for working with Dates and Times\n",
    "import matplotlib.pyplot as plt # Markdown plotting package\n",
    "%matplotlib inline\n",
    "import re # Regex to do regular expression searches for data cleanup\n",
    "import seaborn as sns\n",
    "\n",
    "from tqdm import tqdm"
   ]
  },
  {
   "cell_type": "markdown",
   "id": "c24d27da-d434-402f-8660-1d2ee3fd7246",
   "metadata": {},
   "source": [
    "## Part 1: SQL Queries"
   ]
  },
  {
   "cell_type": "code",
   "execution_count": 7,
   "id": "204b26bd-bdc9-4a29-b6a4-b04ad2fc4dea",
   "metadata": {},
   "outputs": [
    {
     "data": {
      "text/plain": [
       "['ODBC Driver 17 for SQL Server', 'FreeTDS']"
      ]
     },
     "execution_count": 7,
     "metadata": {},
     "output_type": "execute_result"
    }
   ],
   "source": [
    "# check drivers\n",
    "pyodbc.drivers()"
   ]
  },
  {
   "cell_type": "markdown",
   "id": "5c589429-8744-48f4-8864-d9b39f571f73",
   "metadata": {},
   "source": [
    "#### Note regarding Keyring.\n",
    "Keyring is a package to keep passwords so they don't need to be saved as passwords. It will need to be configured differently depending on Linux vs Mac, as well as the specific operating system. To start, you can put your free text password, but just ensure it isn't pushed to GitHub"
   ]
  },
  {
   "cell_type": "code",
   "execution_count": 8,
   "id": "8104e3f1-c1a5-43ca-bcd9-3fe38853c6e6",
   "metadata": {},
   "outputs": [],
   "source": [
    "# initialize connection usin\n",
    "conn = pyodbc.connect(\n",
    " r'DRIVER={FreeTDS};' +\n",
    " ('SERVER={server},{port};' +\n",
    " 'DATABASE={database};' +\n",
    " 'UID={username};' +\n",
    " 'PWD={password}').format(\n",
    " server= 'QCDIDDWDB001.ucsfmedicalcenter.org',\n",
    " port= 1433,\n",
    " database= 'CDW_NEW',\n",
    " username= 'CAMPUS\\\\bhuang3',\n",
    " password= keyring.get_password(\"deid_cdw\",\"CAMPUS\\\\bhuang3\"))\n",
    ")"
   ]
  },
  {
   "cell_type": "markdown",
   "id": "7b03727d-a15c-4fc6-92f3-6f6a6bc1bef4",
   "metadata": {},
   "source": [
    "### Test SQL engine Connection"
   ]
  },
  {
   "cell_type": "code",
   "execution_count": 9,
   "id": "635cf072-1839-4b45-8a0b-5e5a9225033b",
   "metadata": {},
   "outputs": [
    {
     "name": "stdout",
     "output_type": "stream",
     "text": [
      "EncounterFactExample ('deid_uf', 'D316E19BBC6E25', 'DC0323BC1A39FE', 'DE1BF70BB68850', -1, '*Unspecified', -1, '*Unspecified', '*Unspecified', '*Unspecified', '*Unspecified', '*Unspecified', -1, 589360, 'Self-Pay', 21697004, None, 20210504, datetime.date(2021, 5, 4), 20210504, datetime.date(2021, 5, 4), -1, None, -1, None, 697256, 'Physician', '', -1, '*Unspecified', '*Unspecified', -1, '*Unspecified', '*Unspecified', 234, '*Not Applicable', 'HEM BMT PARN', 'Hematology and Oncology', 40, 'Patient Message', '', '*Not Applicable', '', '*Not Applicable', '', '*Not Applicable', '*Unspecified', 'DD4422B5F00BAA', None, None, None, None, None, None, None, None, None, None, None, None, None, None, None, None, None, None, '*Unspecified', 'Complete', '*Unspecified', 0, 0, 0, 0, 0, None, 1)\n"
     ]
    }
   ],
   "source": [
    "# Test simple connection - Total number of patients\n",
    "cursor = conn.cursor()\n",
    "cursor.execute(\"SELECT top 10 * FROM deid_uf.EncounterFact\")\n",
    "tb2=cursor.fetchall()\n",
    "print('EncounterFactExample',tb2[0])"
   ]
  },
  {
   "cell_type": "code",
   "execution_count": null,
   "id": "a14a7480-3271-498a-875a-5d7cd67044c3",
   "metadata": {},
   "outputs": [],
   "source": [
    "# Get number of patients per year\n",
    "pt_per_yr=pd.read_sql('''SELECT count(DISTINCT PatientDurableKey) as Patients, year(EncounterFact.DateKeyValue) as VisitYear\n",
    "FROM deid_uf.EncounterFact\n",
    "Group By year(EncounterFact.DateKeyValue)\n",
    "Order by year(EncounterFact.DateKeyValue) desc''',conn)\n",
    "pt_per_yr.head()\n",
    "pt_per_yr_filt=pt_per_yr[pt_per_yr.VisitYear<2022].reset_index(drop=True)"
   ]
  },
  {
   "cell_type": "markdown",
   "id": "bb72b66c-7ca1-4b74-8e9f-c00c03efa38f",
   "metadata": {},
   "source": [
    "### As an example query, get VBG vs Serum Potassium from lab"
   ]
  },
  {
   "cell_type": "code",
   "execution_count": 10,
   "id": "d109d487-1247-4cda-9306-5a3573f25406",
   "metadata": {},
   "outputs": [
    {
     "data": {
      "text/plain": [
       "<pyodbc.Cursor at 0x7f07cdebe830>"
      ]
     },
     "execution_count": 10,
     "metadata": {},
     "output_type": "execute_result"
    }
   ],
   "source": [
    "# Test sample create table\n",
    "cursor.execute('''\n",
    "SELECT LabComponentKey into ##PotassiumVBG\n",
    "FROM LabComponentDim\n",
    "WHERE CommonName in ('POTASSIUM (BLOOD GAS)','POTASSIUMWHOLEBLOODGEM','POTASSIUM, WHOLE BLOOD VENOUS')\n",
    "''')\n",
    "\n",
    "cursor.execute('''\n",
    "SELECT LabComponentKey into ##Potassium\n",
    "FROM LabComponentDim\n",
    "WHERE CommonName = 'POTASSIUM'\n",
    "''')\n",
    "\n"
   ]
  },
  {
   "cell_type": "code",
   "execution_count": 11,
   "id": "5b075575-1a4c-4a00-9cb6-43ef1e86d909",
   "metadata": {},
   "outputs": [],
   "source": [
    "potassium_serum_list=pd.read_sql('''SELECT * From ##Potassium\n",
    "''',conn).LabComponentKey.to_list()\n",
    "potassium_VBG_list=pd.read_sql('''SELECT * From ##PotassiumVBG\n",
    "''',conn).LabComponentKey.to_list()"
   ]
  },
  {
   "cell_type": "code",
   "execution_count": 12,
   "id": "29a25900-5a16-4378-b1b7-2a1cdb6b7742",
   "metadata": {},
   "outputs": [],
   "source": [
    "df_encounter_pot=pd.read_sql('''\n",
    "Select distinct(EncounterKey)\n",
    "from LabComponentResultFact\n",
    "where LabComponentResultFact.LabComponentKey in (SELECT LabComponentKey From ##Potassium)\n",
    "and LabComponentResultFact.EncounterKey in (\n",
    "Select distinct(EncounterKey) from LabComponentResultFact\n",
    "where LabComponentResultFact.LabComponentKey in (SELECT LabComponentKey From ##PotassiumVBG)\n",
    "    )\n",
    "''',conn)"
   ]
  },
  {
   "cell_type": "code",
   "execution_count": 14,
   "id": "d0633d35-27c8-4464-b478-3f500b29dc01",
   "metadata": {},
   "outputs": [
    {
     "data": {
      "text/html": [
       "<div>\n",
       "<style scoped>\n",
       "    .dataframe tbody tr th:only-of-type {\n",
       "        vertical-align: middle;\n",
       "    }\n",
       "\n",
       "    .dataframe tbody tr th {\n",
       "        vertical-align: top;\n",
       "    }\n",
       "\n",
       "    .dataframe thead th {\n",
       "        text-align: right;\n",
       "    }\n",
       "</style>\n",
       "<table border=\"1\" class=\"dataframe\">\n",
       "  <thead>\n",
       "    <tr style=\"text-align: right;\">\n",
       "      <th></th>\n",
       "      <th>EncounterKey</th>\n",
       "    </tr>\n",
       "  </thead>\n",
       "  <tbody>\n",
       "    <tr>\n",
       "      <th>0</th>\n",
       "      <td>DFCDA9D8FFEAF5</td>\n",
       "    </tr>\n",
       "    <tr>\n",
       "      <th>1</th>\n",
       "      <td>D80D7074F00340</td>\n",
       "    </tr>\n",
       "    <tr>\n",
       "      <th>2</th>\n",
       "      <td>D05E6E581A2CF2</td>\n",
       "    </tr>\n",
       "    <tr>\n",
       "      <th>3</th>\n",
       "      <td>D9DD546C95E412</td>\n",
       "    </tr>\n",
       "    <tr>\n",
       "      <th>4</th>\n",
       "      <td>D388BC3AD236E9</td>\n",
       "    </tr>\n",
       "    <tr>\n",
       "      <th>5</th>\n",
       "      <td>DB083111F8DCE4</td>\n",
       "    </tr>\n",
       "    <tr>\n",
       "      <th>6</th>\n",
       "      <td>D9C2E76EF5DBA8</td>\n",
       "    </tr>\n",
       "    <tr>\n",
       "      <th>7</th>\n",
       "      <td>D9AEFCC51F2D06</td>\n",
       "    </tr>\n",
       "    <tr>\n",
       "      <th>8</th>\n",
       "      <td>D9E5A67ACAF3BF</td>\n",
       "    </tr>\n",
       "    <tr>\n",
       "      <th>9</th>\n",
       "      <td>DF9B1BA6EDEED1</td>\n",
       "    </tr>\n",
       "  </tbody>\n",
       "</table>\n",
       "</div>"
      ],
      "text/plain": [
       "     EncounterKey\n",
       "0  DFCDA9D8FFEAF5\n",
       "1  D80D7074F00340\n",
       "2  D05E6E581A2CF2\n",
       "3  D9DD546C95E412\n",
       "4  D388BC3AD236E9\n",
       "5  DB083111F8DCE4\n",
       "6  D9C2E76EF5DBA8\n",
       "7  D9AEFCC51F2D06\n",
       "8  D9E5A67ACAF3BF\n",
       "9  DF9B1BA6EDEED1"
      ]
     },
     "execution_count": 14,
     "metadata": {},
     "output_type": "execute_result"
    }
   ],
   "source": [
    "df_encounter_pot.head(10)"
   ]
  },
  {
   "cell_type": "code",
   "execution_count": null,
   "id": "02b078b2-1a4c-4832-b7a3-ea0881f28b25",
   "metadata": {},
   "outputs": [],
   "source": []
  }
 ],
 "metadata": {
  "kernelspec": {
   "display_name": "deid_env",
   "language": "python",
   "name": "deid_env"
  },
  "language_info": {
   "codemirror_mode": {
    "name": "ipython",
    "version": 3
   },
   "file_extension": ".py",
   "mimetype": "text/x-python",
   "name": "python",
   "nbconvert_exporter": "python",
   "pygments_lexer": "ipython3",
   "version": "3.7.7"
  }
 },
 "nbformat": 4,
 "nbformat_minor": 5
}
